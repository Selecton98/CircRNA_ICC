{
 "cells": [
  {
   "cell_type": "code",
   "execution_count": 1,
   "metadata": {},
   "outputs": [
    {
     "name": "stderr",
     "output_type": "stream",
     "text": [
      "\n",
      "Attaching package: ‘dplyr’\n",
      "\n",
      "\n",
      "The following objects are masked from ‘package:stats’:\n",
      "\n",
      "    filter, lag\n",
      "\n",
      "\n",
      "The following objects are masked from ‘package:base’:\n",
      "\n",
      "    intersect, setdiff, setequal, union\n",
      "\n",
      "\n",
      "Attaching SeuratObject\n",
      "\n"
     ]
    }
   ],
   "source": [
    "library(dplyr)\n",
    "library(Seurat)\n",
    "library(patchwork)"
   ]
  },
  {
   "cell_type": "code",
   "execution_count": 2,
   "metadata": {},
   "outputs": [
    {
     "name": "stderr",
     "output_type": "stream",
     "text": [
      "\n",
      "Attaching package: ‘cowplot’\n",
      "\n",
      "\n",
      "The following object is masked from ‘package:patchwork’:\n",
      "\n",
      "    align_plots\n",
      "\n",
      "\n"
     ]
    }
   ],
   "source": [
    "library(ggplot2)\n",
    "library(cowplot)"
   ]
  },
  {
   "cell_type": "code",
   "execution_count": 3,
   "metadata": {},
   "outputs": [
    {
     "name": "stderr",
     "output_type": "stream",
     "text": [
      "Loading required package: tidyr\n",
      "\n",
      "Loading required package: S4Vectors\n",
      "\n",
      "Loading required package: stats4\n",
      "\n",
      "Loading required package: BiocGenerics\n",
      "\n",
      "Loading required package: parallel\n",
      "\n",
      "\n",
      "Attaching package: ‘BiocGenerics’\n",
      "\n",
      "\n",
      "The following objects are masked from ‘package:parallel’:\n",
      "\n",
      "    clusterApply, clusterApplyLB, clusterCall, clusterEvalQ,\n",
      "    clusterExport, clusterMap, parApply, parCapply, parLapply,\n",
      "    parLapplyLB, parRapply, parSapply, parSapplyLB\n",
      "\n",
      "\n",
      "The following objects are masked from ‘package:dplyr’:\n",
      "\n",
      "    combine, intersect, setdiff, union\n",
      "\n",
      "\n",
      "The following objects are masked from ‘package:stats’:\n",
      "\n",
      "    IQR, mad, sd, var, xtabs\n",
      "\n",
      "\n",
      "The following objects are masked from ‘package:base’:\n",
      "\n",
      "    anyDuplicated, append, as.data.frame, basename, cbind, colnames,\n",
      "    dirname, do.call, duplicated, eval, evalq, Filter, Find, get, grep,\n",
      "    grepl, intersect, is.unsorted, lapply, Map, mapply, match, mget,\n",
      "    order, paste, pmax, pmax.int, pmin, pmin.int, Position, rank,\n",
      "    rbind, Reduce, rownames, sapply, setdiff, sort, table, tapply,\n",
      "    union, unique, unsplit, which.max, which.min\n",
      "\n",
      "\n",
      "\n",
      "Attaching package: ‘S4Vectors’\n",
      "\n",
      "\n",
      "The following object is masked from ‘package:tidyr’:\n",
      "\n",
      "    expand\n",
      "\n",
      "\n",
      "The following objects are masked from ‘package:dplyr’:\n",
      "\n",
      "    first, rename\n",
      "\n",
      "\n",
      "The following object is masked from ‘package:base’:\n",
      "\n",
      "    expand.grid\n",
      "\n",
      "\n",
      "Loading required package: IRanges\n",
      "\n",
      "Warning message:\n",
      "“multiple methods tables found for ‘which’”\n",
      "\n",
      "Attaching package: ‘IRanges’\n",
      "\n",
      "\n",
      "The following objects are masked from ‘package:dplyr’:\n",
      "\n",
      "    collapse, desc, slice\n",
      "\n",
      "\n",
      "Loading required package: GenomicRanges\n",
      "\n",
      "Loading required package: GenomeInfoDb\n",
      "\n",
      "Loading required package: SummarizedExperiment\n",
      "\n",
      "Loading required package: Biobase\n",
      "\n",
      "Welcome to Bioconductor\n",
      "\n",
      "    Vignettes contain introductory material; view with\n",
      "    'browseVignettes()'. To cite Bioconductor, see\n",
      "    'citation(\"Biobase\")', and for packages 'citation(\"pkgname\")'.\n",
      "\n",
      "\n",
      "Loading required package: DelayedArray\n",
      "\n",
      "Loading required package: matrixStats\n",
      "\n",
      "\n",
      "Attaching package: ‘matrixStats’\n",
      "\n",
      "\n",
      "The following objects are masked from ‘package:Biobase’:\n",
      "\n",
      "    anyMissing, rowMedians\n",
      "\n",
      "\n",
      "The following object is masked from ‘package:dplyr’:\n",
      "\n",
      "    count\n",
      "\n",
      "\n",
      "Warning message:\n",
      "“multiple methods tables found for ‘which’”\n",
      "\n",
      "Attaching package: ‘DelayedArray’\n",
      "\n",
      "\n",
      "The following objects are masked from ‘package:matrixStats’:\n",
      "\n",
      "    colMaxs, colMins, colRanges, rowMaxs, rowMins, rowRanges\n",
      "\n",
      "\n",
      "The following objects are masked from ‘package:base’:\n",
      "\n",
      "    aperm, apply, rowsum\n",
      "\n",
      "\n",
      "\n",
      "Attaching package: ‘SummarizedExperiment’\n",
      "\n",
      "\n",
      "The following object is masked from ‘package:SeuratObject’:\n",
      "\n",
      "    Assays\n",
      "\n",
      "\n",
      "The following object is masked from ‘package:Seurat’:\n",
      "\n",
      "    Assays\n",
      "\n",
      "\n"
     ]
    }
   ],
   "source": [
    "require(dplyr)\n",
    "require(tidyr)\n",
    "#library(tidyverse)\n",
    "library(DESeq2)"
   ]
  },
  {
   "cell_type": "code",
   "execution_count": 4,
   "metadata": {},
   "outputs": [],
   "source": [
    "require(dplyr)\n",
    "require(tidyr)"
   ]
  },
  {
   "cell_type": "code",
   "execution_count": 5,
   "metadata": {},
   "outputs": [
    {
     "name": "stderr",
     "output_type": "stream",
     "text": [
      "\n",
      "Attaching package: ‘ggpubr’\n",
      "\n",
      "\n",
      "The following object is masked from ‘package:cowplot’:\n",
      "\n",
      "    get_legend\n",
      "\n",
      "\n"
     ]
    }
   ],
   "source": [
    "library(ggpubr)\n",
    "library(RColorBrewer)"
   ]
  },
  {
   "cell_type": "code",
   "execution_count": 6,
   "metadata": {},
   "outputs": [
    {
     "name": "stderr",
     "output_type": "stream",
     "text": [
      "Loading required package: edgeR\n",
      "\n",
      "Loading required package: limma\n",
      "\n",
      "\n",
      "Attaching package: ‘limma’\n",
      "\n",
      "\n",
      "The following object is masked from ‘package:DESeq2’:\n",
      "\n",
      "    plotMA\n",
      "\n",
      "\n",
      "The following object is masked from ‘package:BiocGenerics’:\n",
      "\n",
      "    plotMA\n",
      "\n",
      "\n"
     ]
    }
   ],
   "source": [
    "require(\"edgeR\")\n",
    "require(\"limma\")"
   ]
  },
  {
   "cell_type": "code",
   "execution_count": 7,
   "metadata": {},
   "outputs": [
    {
     "name": "stderr",
     "output_type": "stream",
     "text": [
      "Loading required package: annotate\n",
      "\n",
      "Loading required package: AnnotationDbi\n",
      "\n",
      "\n",
      "Attaching package: ‘AnnotationDbi’\n",
      "\n",
      "\n",
      "The following object is masked from ‘package:dplyr’:\n",
      "\n",
      "    select\n",
      "\n",
      "\n",
      "Loading required package: XML\n",
      "\n",
      "Loading required package: graph\n",
      "\n",
      "\n",
      "Attaching package: ‘graph’\n",
      "\n",
      "\n",
      "The following object is masked from ‘package:XML’:\n",
      "\n",
      "    addNode\n",
      "\n",
      "\n"
     ]
    }
   ],
   "source": [
    "library(GSEABase)"
   ]
  },
  {
   "cell_type": "code",
   "execution_count": 8,
   "metadata": {},
   "outputs": [],
   "source": [
    "library(GSVA)\n",
    "library(limma)"
   ]
  },
  {
   "cell_type": "code",
   "execution_count": 9,
   "metadata": {},
   "outputs": [
    {
     "name": "stderr",
     "output_type": "stream",
     "text": [
      "Loading required package: viridisLite\n",
      "\n"
     ]
    }
   ],
   "source": [
    "library(viridis)"
   ]
  },
  {
   "cell_type": "code",
   "execution_count": 10,
   "metadata": {},
   "outputs": [
    {
     "name": "stderr",
     "output_type": "stream",
     "text": [
      "Loading required package: grid\n",
      "\n",
      "Loading required package: futile.logger\n",
      "\n",
      "\n",
      "Attaching package: ‘VennDiagram’\n",
      "\n",
      "\n",
      "The following object is masked from ‘package:ggpubr’:\n",
      "\n",
      "    rotate\n",
      "\n",
      "\n"
     ]
    }
   ],
   "source": [
    "library(tidyr)\n",
    "library(VennDiagram)\n",
    "library(dplyr)\n",
    "library(tidyr)"
   ]
  },
  {
   "cell_type": "code",
   "execution_count": 11,
   "metadata": {},
   "outputs": [],
   "source": [
    "library(dplyr)\n",
    "library(Seurat)\n",
    "library(patchwork)"
   ]
  },
  {
   "cell_type": "code",
   "execution_count": 12,
   "metadata": {},
   "outputs": [],
   "source": [
    "library(ggplot2)\n",
    "library(cowplot)"
   ]
  },
  {
   "cell_type": "code",
   "execution_count": 13,
   "metadata": {},
   "outputs": [
    {
     "name": "stderr",
     "output_type": "stream",
     "text": [
      "Loading required package: ggraph\n",
      "\n"
     ]
    }
   ],
   "source": [
    "library(\"clustree\")\n",
    "library(\"SingleR\")"
   ]
  },
  {
   "cell_type": "code",
   "execution_count": 14,
   "metadata": {},
   "outputs": [
    {
     "data": {
      "text/plain": [
       "R version 4.0.3 (2020-10-10)\n",
       "Platform: x86_64-conda-linux-gnu (64-bit)\n",
       "Running under: Ubuntu 20.04.2 LTS\n",
       "\n",
       "Matrix products: default\n",
       "BLAS/LAPACK: /home/zhoujiaqi/miniconda2/envs/R/lib/libblas.so.3\n",
       "\n",
       "locale:\n",
       " [1] LC_CTYPE=en_US.UTF-8       LC_NUMERIC=C              \n",
       " [3] LC_TIME=zh_CN.UTF-8        LC_COLLATE=en_US.UTF-8    \n",
       " [5] LC_MONETARY=zh_CN.UTF-8    LC_MESSAGES=en_US.UTF-8   \n",
       " [7] LC_PAPER=zh_CN.UTF-8       LC_NAME=C                 \n",
       " [9] LC_ADDRESS=C               LC_TELEPHONE=C            \n",
       "[11] LC_MEASUREMENT=zh_CN.UTF-8 LC_IDENTIFICATION=C       \n",
       "\n",
       "attached base packages:\n",
       " [1] grid      parallel  stats4    stats     graphics  grDevices utils    \n",
       " [8] datasets  methods   base     \n",
       "\n",
       "other attached packages:\n",
       " [1] SingleR_1.0.1               clustree_0.4.3             \n",
       " [3] ggraph_2.0.5                VennDiagram_1.6.20         \n",
       " [5] futile.logger_1.4.3         viridis_0.6.1              \n",
       " [7] viridisLite_0.4.0           GSVA_1.36.3                \n",
       " [9] GSEABase_1.50.1             graph_1.66.0               \n",
       "[11] annotate_1.66.0             XML_3.99-0.5               \n",
       "[13] AnnotationDbi_1.54.0        edgeR_3.32.0               \n",
       "[15] limma_3.44.3                RColorBrewer_1.1-2         \n",
       "[17] ggpubr_0.4.0                DESeq2_1.28.1              \n",
       "[19] SummarizedExperiment_1.18.2 DelayedArray_0.14.1        \n",
       "[21] matrixStats_0.59.0          Biobase_2.48.0             \n",
       "[23] GenomicRanges_1.40.0        GenomeInfoDb_1.28.1        \n",
       "[25] IRanges_2.22.2              S4Vectors_0.26.1           \n",
       "[27] BiocGenerics_0.38.0         tidyr_1.1.3                \n",
       "[29] cowplot_1.1.1               ggplot2_3.3.5              \n",
       "[31] patchwork_1.1.1             SeuratObject_4.0.0         \n",
       "[33] Seurat_4.0.0                dplyr_1.0.7                \n",
       "\n",
       "loaded via a namespace (and not attached):\n",
       "  [1] utf8_1.2.2             reticulate_1.20        tidyselect_1.1.1      \n",
       "  [4] RSQLite_2.2.3          htmlwidgets_1.5.3      BiocParallel_1.22.0   \n",
       "  [7] Rtsne_0.15             munsell_0.5.0          codetools_0.2-18      \n",
       " [10] ica_1.0-2              pbdZMQ_0.3-5           future_1.21.0         \n",
       " [13] miniUI_0.1.1.1         withr_2.4.2            colorspace_2.0-2      \n",
       " [16] uuid_0.1-4             ROCR_1.0-11            ggsignif_0.6.1        \n",
       " [19] tensor_1.5             pbmcapply_1.5.0        listenv_0.8.0         \n",
       " [22] repr_1.1.3             GenomeInfoDbData_1.2.4 polyclip_1.10-0       \n",
       " [25] pheatmap_1.0.12        farver_2.1.0           bit64_4.0.5           \n",
       " [28] parallelly_1.26.1      vctrs_0.3.8            generics_0.1.0        \n",
       " [31] lambda.r_1.2.4         doParallel_1.0.16      R6_2.5.1              \n",
       " [34] graphlayouts_0.7.1     locfit_1.5-9.4         bitops_1.0-7          \n",
       " [37] spatstat.utils_2.0-0   assertthat_0.2.1       promises_1.2.0.1      \n",
       " [40] scales_1.1.1           gtable_0.3.0           globals_0.14.0        \n",
       " [43] goftest_1.2-2          tidygraph_1.2.0        rlang_0.4.11          \n",
       " [46] genefilter_1.70.0      splines_4.0.3          rstatix_0.7.0         \n",
       " [49] lazyeval_0.2.2         broom_0.7.5            reshape2_1.4.4        \n",
       " [52] abind_1.4-5            backports_1.2.0        httpuv_1.5.5          \n",
       " [55] tools_4.0.3            ellipsis_0.3.2         ggridges_0.5.3        \n",
       " [58] Rcpp_1.0.7             plyr_1.8.6             base64enc_0.1-3       \n",
       " [61] zlibbioc_1.34.0        purrr_0.3.4            RCurl_1.98-1.3        \n",
       " [64] rpart_4.1-15           deldir_0.2-3           pbapply_1.4-3         \n",
       " [67] zoo_1.8-8              haven_2.3.1            ggrepel_0.9.1         \n",
       " [70] cluster_2.1.0          magrittr_2.0.1         data.table_1.13.2     \n",
       " [73] futile.options_1.0.1   scattermore_0.7        openxlsx_4.2.4        \n",
       " [76] lmtest_0.9-38          RANN_2.6.1             fitdistrplus_1.1-3    \n",
       " [79] hms_1.1.0              mime_0.11              evaluate_0.14         \n",
       " [82] xtable_1.8-4           rio_0.5.26             readxl_1.3.1          \n",
       " [85] gridExtra_2.3          compiler_4.0.3         tibble_3.1.4          \n",
       " [88] KernSmooth_2.23-18     crayon_1.4.1           htmltools_0.5.2       \n",
       " [91] mgcv_1.8-33            later_1.3.0            geneplotter_1.66.0    \n",
       " [94] DBI_1.1.1              tweenr_1.0.2           formatR_1.7           \n",
       " [97] MASS_7.3-53            Matrix_1.2-18          car_3.0-10            \n",
       "[100] igraph_1.2.6           forcats_0.5.1          pkgconfig_2.0.3       \n",
       "[103] getPass_0.2-2          foreign_0.8-80         IRdisplay_1.0         \n",
       "[106] plotly_4.9.3           foreach_1.5.1          XVector_0.28.0        \n",
       "[109] doFuture_0.12.0        stringr_1.4.0          digest_0.6.27         \n",
       "[112] sctransform_0.3.2      RcppAnnoy_0.0.18       spatstat.data_2.0-0   \n",
       "[115] Biostrings_2.56.0      cellranger_1.1.0       leiden_0.3.7          \n",
       "[118] uwot_0.1.10            curl_4.3               shiny_1.6.0           \n",
       "[121] outliers_0.14          lifecycle_1.0.0        nlme_3.1-150          \n",
       "[124] jsonlite_1.7.2         carData_3.0-4          fansi_0.5.0           \n",
       "[127] pillar_1.6.2           lattice_0.20-41        KEGGREST_1.28.0       \n",
       "[130] fastmap_1.1.0          httr_1.4.2             survival_3.2-7        \n",
       "[133] glue_1.4.2             zip_2.1.1              spatstat_1.64-1       \n",
       "[136] iterators_1.0.13       png_0.1-7              shinythemes_1.2.0     \n",
       "[139] bit_4.0.4              ggforce_0.3.3          stringi_1.7.4         \n",
       "[142] blob_1.2.1             singscore_1.8.0        memoise_1.1.0         \n",
       "[145] IRkernel_1.1.1         irlba_2.3.3            future.apply_1.7.0    "
      ]
     },
     "metadata": {},
     "output_type": "display_data"
    }
   ],
   "source": [
    "sessionInfo()"
   ]
  }
 ],
 "metadata": {
  "kernelspec": {
   "display_name": "R",
   "language": "R",
   "name": "ir"
  },
  "language_info": {
   "codemirror_mode": "r",
   "file_extension": ".r",
   "mimetype": "text/x-r-source",
   "name": "R",
   "pygments_lexer": "r",
   "version": "4.0.3"
  }
 },
 "nbformat": 4,
 "nbformat_minor": 2
}
