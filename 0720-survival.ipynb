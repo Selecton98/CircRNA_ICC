{
 "cells": [
  {
   "cell_type": "code",
   "execution_count": 1,
   "metadata": {},
   "outputs": [],
   "source": [
    "groups3<-read.csv('try.csv')"
   ]
  },
  {
   "cell_type": "code",
   "execution_count": 2,
   "metadata": {},
   "outputs": [
    {
     "data": {
      "text/html": [
       "<table class=\"dataframe\">\n",
       "<caption>A data.frame: 10 × 6</caption>\n",
       "<thead>\n",
       "\t<tr><th scope=col>subgroup</th><th scope=col>ID</th><th scope=col>recurrence</th><th scope=col>PFS</th><th scope=col>survival</th><th scope=col>OS</th></tr>\n",
       "\t<tr><th scope=col>&lt;int&gt;</th><th scope=col>&lt;int&gt;</th><th scope=col>&lt;chr&gt;</th><th scope=col>&lt;int&gt;</th><th scope=col>&lt;chr&gt;</th><th scope=col>&lt;int&gt;</th></tr>\n",
       "</thead>\n",
       "<tbody>\n",
       "\t<tr><td>2</td><td>2537821</td><td>none     </td><td>317</td><td>alive   </td><td>317</td></tr>\n",
       "\t<tr><td>2</td><td>2518780</td><td>none     </td><td>608</td><td>alive   </td><td>608</td></tr>\n",
       "\t<tr><td>2</td><td>      1</td><td>recurrent</td><td>168</td><td>alive   </td><td>263</td></tr>\n",
       "\t<tr><td>2</td><td>      2</td><td>recurrent</td><td> 58</td><td>alive   </td><td>258</td></tr>\n",
       "\t<tr><td>2</td><td>      5</td><td>recurrent</td><td> 78</td><td>deceased</td><td>166</td></tr>\n",
       "\t<tr><td>2</td><td>      7</td><td>none     </td><td>206</td><td>alive   </td><td>206</td></tr>\n",
       "\t<tr><td>3</td><td>2520263</td><td>recurrent</td><td> 39</td><td>deceased</td><td> 48</td></tr>\n",
       "\t<tr><td>3</td><td>2393116</td><td>none     </td><td>870</td><td>alive   </td><td>870</td></tr>\n",
       "\t<tr><td>3</td><td>      4</td><td>recurrent</td><td>226</td><td>alive   </td><td>251</td></tr>\n",
       "\t<tr><td>3</td><td>      6</td><td>recurrent</td><td> 62</td><td>deceased</td><td>154</td></tr>\n",
       "</tbody>\n",
       "</table>\n"
      ],
      "text/latex": [
       "A data.frame: 10 × 6\n",
       "\\begin{tabular}{llllll}\n",
       " subgroup & ID & recurrence & PFS & survival & OS\\\\\n",
       " <int> & <int> & <chr> & <int> & <chr> & <int>\\\\\n",
       "\\hline\n",
       "\t 2 & 2537821 & none      & 317 & alive    & 317\\\\\n",
       "\t 2 & 2518780 & none      & 608 & alive    & 608\\\\\n",
       "\t 2 &       1 & recurrent & 168 & alive    & 263\\\\\n",
       "\t 2 &       2 & recurrent &  58 & alive    & 258\\\\\n",
       "\t 2 &       5 & recurrent &  78 & deceased & 166\\\\\n",
       "\t 2 &       7 & none      & 206 & alive    & 206\\\\\n",
       "\t 3 & 2520263 & recurrent &  39 & deceased &  48\\\\\n",
       "\t 3 & 2393116 & none      & 870 & alive    & 870\\\\\n",
       "\t 3 &       4 & recurrent & 226 & alive    & 251\\\\\n",
       "\t 3 &       6 & recurrent &  62 & deceased & 154\\\\\n",
       "\\end{tabular}\n"
      ],
      "text/markdown": [
       "\n",
       "A data.frame: 10 × 6\n",
       "\n",
       "| subgroup &lt;int&gt; | ID &lt;int&gt; | recurrence &lt;chr&gt; | PFS &lt;int&gt; | survival &lt;chr&gt; | OS &lt;int&gt; |\n",
       "|---|---|---|---|---|---|\n",
       "| 2 | 2537821 | none      | 317 | alive    | 317 |\n",
       "| 2 | 2518780 | none      | 608 | alive    | 608 |\n",
       "| 2 |       1 | recurrent | 168 | alive    | 263 |\n",
       "| 2 |       2 | recurrent |  58 | alive    | 258 |\n",
       "| 2 |       5 | recurrent |  78 | deceased | 166 |\n",
       "| 2 |       7 | none      | 206 | alive    | 206 |\n",
       "| 3 | 2520263 | recurrent |  39 | deceased |  48 |\n",
       "| 3 | 2393116 | none      | 870 | alive    | 870 |\n",
       "| 3 |       4 | recurrent | 226 | alive    | 251 |\n",
       "| 3 |       6 | recurrent |  62 | deceased | 154 |\n",
       "\n"
      ],
      "text/plain": [
       "   subgroup ID      recurrence PFS survival OS \n",
       "1  2        2537821 none       317 alive    317\n",
       "2  2        2518780 none       608 alive    608\n",
       "3  2              1 recurrent  168 alive    263\n",
       "4  2              2 recurrent   58 alive    258\n",
       "5  2              5 recurrent   78 deceased 166\n",
       "6  2              7 none       206 alive    206\n",
       "7  3        2520263 recurrent   39 deceased  48\n",
       "8  3        2393116 none       870 alive    870\n",
       "9  3              4 recurrent  226 alive    251\n",
       "10 3              6 recurrent   62 deceased 154"
      ]
     },
     "metadata": {},
     "output_type": "display_data"
    }
   ],
   "source": [
    "groups3"
   ]
  },
  {
   "cell_type": "code",
   "execution_count": 3,
   "metadata": {},
   "outputs": [
    {
     "name": "stderr",
     "output_type": "stream",
     "text": [
      "Loading required package: ggplot2\n",
      "\n",
      "Loading required package: ggpubr\n",
      "\n"
     ]
    }
   ],
   "source": [
    "library('survival')\n",
    "library('survminer')"
   ]
  },
  {
   "cell_type": "code",
   "execution_count": 4,
   "metadata": {},
   "outputs": [],
   "source": [
    "groups3$survival2<-gsub('alive',1,groups3$survival)\n",
    "groups3$survival2<-gsub('deceased',2,groups3$survival2)"
   ]
  },
  {
   "cell_type": "code",
   "execution_count": 5,
   "metadata": {},
   "outputs": [
    {
     "data": {
      "text/html": [
       "<table class=\"dataframe\">\n",
       "<caption>A data.frame: 10 × 7</caption>\n",
       "<thead>\n",
       "\t<tr><th scope=col>subgroup</th><th scope=col>ID</th><th scope=col>recurrence</th><th scope=col>PFS</th><th scope=col>survival</th><th scope=col>OS</th><th scope=col>survival2</th></tr>\n",
       "\t<tr><th scope=col>&lt;int&gt;</th><th scope=col>&lt;int&gt;</th><th scope=col>&lt;chr&gt;</th><th scope=col>&lt;int&gt;</th><th scope=col>&lt;chr&gt;</th><th scope=col>&lt;int&gt;</th><th scope=col>&lt;chr&gt;</th></tr>\n",
       "</thead>\n",
       "<tbody>\n",
       "\t<tr><td>2</td><td>2537821</td><td>none     </td><td>317</td><td>alive   </td><td>317</td><td>1</td></tr>\n",
       "\t<tr><td>2</td><td>2518780</td><td>none     </td><td>608</td><td>alive   </td><td>608</td><td>1</td></tr>\n",
       "\t<tr><td>2</td><td>      1</td><td>recurrent</td><td>168</td><td>alive   </td><td>263</td><td>1</td></tr>\n",
       "\t<tr><td>2</td><td>      2</td><td>recurrent</td><td> 58</td><td>alive   </td><td>258</td><td>1</td></tr>\n",
       "\t<tr><td>2</td><td>      5</td><td>recurrent</td><td> 78</td><td>deceased</td><td>166</td><td>2</td></tr>\n",
       "\t<tr><td>2</td><td>      7</td><td>none     </td><td>206</td><td>alive   </td><td>206</td><td>1</td></tr>\n",
       "\t<tr><td>3</td><td>2520263</td><td>recurrent</td><td> 39</td><td>deceased</td><td> 48</td><td>2</td></tr>\n",
       "\t<tr><td>3</td><td>2393116</td><td>none     </td><td>870</td><td>alive   </td><td>870</td><td>1</td></tr>\n",
       "\t<tr><td>3</td><td>      4</td><td>recurrent</td><td>226</td><td>alive   </td><td>251</td><td>1</td></tr>\n",
       "\t<tr><td>3</td><td>      6</td><td>recurrent</td><td> 62</td><td>deceased</td><td>154</td><td>2</td></tr>\n",
       "</tbody>\n",
       "</table>\n"
      ],
      "text/latex": [
       "A data.frame: 10 × 7\n",
       "\\begin{tabular}{lllllll}\n",
       " subgroup & ID & recurrence & PFS & survival & OS & survival2\\\\\n",
       " <int> & <int> & <chr> & <int> & <chr> & <int> & <chr>\\\\\n",
       "\\hline\n",
       "\t 2 & 2537821 & none      & 317 & alive    & 317 & 1\\\\\n",
       "\t 2 & 2518780 & none      & 608 & alive    & 608 & 1\\\\\n",
       "\t 2 &       1 & recurrent & 168 & alive    & 263 & 1\\\\\n",
       "\t 2 &       2 & recurrent &  58 & alive    & 258 & 1\\\\\n",
       "\t 2 &       5 & recurrent &  78 & deceased & 166 & 2\\\\\n",
       "\t 2 &       7 & none      & 206 & alive    & 206 & 1\\\\\n",
       "\t 3 & 2520263 & recurrent &  39 & deceased &  48 & 2\\\\\n",
       "\t 3 & 2393116 & none      & 870 & alive    & 870 & 1\\\\\n",
       "\t 3 &       4 & recurrent & 226 & alive    & 251 & 1\\\\\n",
       "\t 3 &       6 & recurrent &  62 & deceased & 154 & 2\\\\\n",
       "\\end{tabular}\n"
      ],
      "text/markdown": [
       "\n",
       "A data.frame: 10 × 7\n",
       "\n",
       "| subgroup &lt;int&gt; | ID &lt;int&gt; | recurrence &lt;chr&gt; | PFS &lt;int&gt; | survival &lt;chr&gt; | OS &lt;int&gt; | survival2 &lt;chr&gt; |\n",
       "|---|---|---|---|---|---|---|\n",
       "| 2 | 2537821 | none      | 317 | alive    | 317 | 1 |\n",
       "| 2 | 2518780 | none      | 608 | alive    | 608 | 1 |\n",
       "| 2 |       1 | recurrent | 168 | alive    | 263 | 1 |\n",
       "| 2 |       2 | recurrent |  58 | alive    | 258 | 1 |\n",
       "| 2 |       5 | recurrent |  78 | deceased | 166 | 2 |\n",
       "| 2 |       7 | none      | 206 | alive    | 206 | 1 |\n",
       "| 3 | 2520263 | recurrent |  39 | deceased |  48 | 2 |\n",
       "| 3 | 2393116 | none      | 870 | alive    | 870 | 1 |\n",
       "| 3 |       4 | recurrent | 226 | alive    | 251 | 1 |\n",
       "| 3 |       6 | recurrent |  62 | deceased | 154 | 2 |\n",
       "\n"
      ],
      "text/plain": [
       "   subgroup ID      recurrence PFS survival OS  survival2\n",
       "1  2        2537821 none       317 alive    317 1        \n",
       "2  2        2518780 none       608 alive    608 1        \n",
       "3  2              1 recurrent  168 alive    263 1        \n",
       "4  2              2 recurrent   58 alive    258 1        \n",
       "5  2              5 recurrent   78 deceased 166 2        \n",
       "6  2              7 none       206 alive    206 1        \n",
       "7  3        2520263 recurrent   39 deceased  48 2        \n",
       "8  3        2393116 none       870 alive    870 1        \n",
       "9  3              4 recurrent  226 alive    251 1        \n",
       "10 3              6 recurrent   62 deceased 154 2        "
      ]
     },
     "metadata": {},
     "output_type": "display_data"
    }
   ],
   "source": [
    "groups3"
   ]
  },
  {
   "cell_type": "code",
   "execution_count": 6,
   "metadata": {},
   "outputs": [],
   "source": [
    "groups3$survival2<-as.numeric(groups3$survival2)\n",
    "groups3$OS<-as.numeric(groups3$OS)"
   ]
  },
  {
   "cell_type": "code",
   "execution_count": 7,
   "metadata": {},
   "outputs": [
    {
     "data": {
      "text/plain": [
       "Call: survfit(formula = Surv(OS, survival2) ~ subgroup)\n",
       "\n",
       "                subgroup=2 \n",
       "        time       n.risk      n.event     survival      std.err lower 95% CI \n",
       "     166.000        6.000        1.000        0.833        0.152        0.583 \n",
       "upper 95% CI \n",
       "       1.000 \n",
       "\n",
       "                subgroup=3 \n",
       " time n.risk n.event survival std.err lower 95% CI upper 95% CI\n",
       "   48      4       1     0.75   0.217        0.426            1\n",
       "  154      3       1     0.50   0.250        0.188            1\n"
      ]
     },
     "metadata": {},
     "output_type": "display_data"
    }
   ],
   "source": [
    "attach(groups3)\n",
    "fit <- survfit(Surv(OS, survival2) ~ subgroup)\n",
    "summary(fit)"
   ]
  },
  {
   "cell_type": "code",
   "execution_count": 8,
   "metadata": {},
   "outputs": [],
   "source": [
    "options(repr.plot.height=6,repr.plot.width=6)"
   ]
  },
  {
   "cell_type": "code",
   "execution_count": 9,
   "metadata": {},
   "outputs": [
    {
     "data": {
      "image/png": "[encoded data removed]",
      "text/plain": [
       "plot without title"
      ]
     },
     "metadata": {
      "image/png": {
       "height": 360,
       "width": 360
      }
     },
     "output_type": "display_data"
    }
   ],
   "source": [
    "ggsurvplot(fit, data = groups3,\n",
    "           pval = T, # 在图上添加log rank检验的p值\n",
    "         #  conf.int = T,# 添加置信区间\n",
    "           risk.table = T, # 在图下方添加风险表\n",
    "           legend.labs=c(\"subgroup2\",\"subgroup3\"), #表头标签注释男女\n",
    "           legend.title=\"Subgroups\",#表头标签\n",
    "           ylab=\"Cumulative survival (percentage)\",xlab = \" Time (Days)\",#修改X轴Y轴名称\n",
    "           risk.table.col = \"strata\", # 风险表加颜色\n",
    "       #    linetype = \"strata\", # 生存曲线的线型\n",
    "       #    surv.median.line = \"hv\", # 标注出中位生存时间\n",
    "           ggtheme = theme_bw(), #背景布局\n",
    "           palette = c(\"red\", \"blue\")) # 图形颜色风格"
   ]
  },
  {
   "cell_type": "code",
   "execution_count": 10,
   "metadata": {},
   "outputs": [
    {
     "data": {
      "text/html": [
       "<strong>png:</strong> 2"
      ],
      "text/latex": [
       "\\textbf{png:} 2"
      ],
      "text/markdown": [
       "**png:** 2"
      ],
      "text/plain": [
       "png \n",
       "  2 "
      ]
     },
     "metadata": {},
     "output_type": "display_data"
    }
   ],
   "source": [
    "pdf(\"OS.pdf\",width=5.5,height=5)\n",
    "ggsurvplot(fit, data = groups3,\n",
    "           pval = T, # 在图上添加log rank检验的p值\n",
    "         #  conf.int = T,# 添加置信区间\n",
    "           risk.table = T, # 在图下方添加风险表\n",
    "           legend.labs=c(\"subgroup2\",\"subgroup3\"), #表头标签注释男女\n",
    "           legend.title=\"Subgroups\",#表头标签\n",
    "           ylab=\"Cumulative survival (percentage)\",xlab = \" Time (Days)\",#修改X轴Y轴名称\n",
    "           risk.table.col = \"strata\", # 风险表加颜色\n",
    "       #    linetype = \"strata\", # 生存曲线的线型\n",
    "       #    surv.median.line = \"hv\", # 标注出中位生存时间\n",
    "           ggtheme = theme_bw(), #背景布局\n",
    "           palette = c(\"red\", \"blue\")) # 图形颜色风格\n",
    "dev.off()"
   ]
  },
  {
   "cell_type": "code",
   "execution_count": 11,
   "metadata": {},
   "outputs": [],
   "source": [
    "groups3<-read.csv('try.csv')"
   ]
  },
  {
   "cell_type": "code",
   "execution_count": 12,
   "metadata": {},
   "outputs": [
    {
     "data": {
      "text/html": [
       "<table class=\"dataframe\">\n",
       "<caption>A data.frame: 10 × 6</caption>\n",
       "<thead>\n",
       "\t<tr><th scope=col>subgroup</th><th scope=col>ID</th><th scope=col>recurrence</th><th scope=col>PFS</th><th scope=col>survival</th><th scope=col>OS</th></tr>\n",
       "\t<tr><th scope=col>&lt;int&gt;</th><th scope=col>&lt;int&gt;</th><th scope=col>&lt;chr&gt;</th><th scope=col>&lt;int&gt;</th><th scope=col>&lt;chr&gt;</th><th scope=col>&lt;int&gt;</th></tr>\n",
       "</thead>\n",
       "<tbody>\n",
       "\t<tr><td>2</td><td>2537821</td><td>none     </td><td>317</td><td>alive   </td><td>317</td></tr>\n",
       "\t<tr><td>2</td><td>2518780</td><td>none     </td><td>608</td><td>alive   </td><td>608</td></tr>\n",
       "\t<tr><td>2</td><td>      1</td><td>recurrent</td><td>168</td><td>alive   </td><td>263</td></tr>\n",
       "\t<tr><td>2</td><td>      2</td><td>recurrent</td><td> 58</td><td>alive   </td><td>258</td></tr>\n",
       "\t<tr><td>2</td><td>      5</td><td>recurrent</td><td> 78</td><td>deceased</td><td>166</td></tr>\n",
       "\t<tr><td>2</td><td>      7</td><td>none     </td><td>206</td><td>alive   </td><td>206</td></tr>\n",
       "\t<tr><td>3</td><td>2520263</td><td>recurrent</td><td> 39</td><td>deceased</td><td> 48</td></tr>\n",
       "\t<tr><td>3</td><td>2393116</td><td>none     </td><td>870</td><td>alive   </td><td>870</td></tr>\n",
       "\t<tr><td>3</td><td>      4</td><td>recurrent</td><td>226</td><td>alive   </td><td>251</td></tr>\n",
       "\t<tr><td>3</td><td>      6</td><td>recurrent</td><td> 62</td><td>deceased</td><td>154</td></tr>\n",
       "</tbody>\n",
       "</table>\n"
      ],
      "text/latex": [
       "A data.frame: 10 × 6\n",
       "\\begin{tabular}{llllll}\n",
       " subgroup & ID & recurrence & PFS & survival & OS\\\\\n",
       " <int> & <int> & <chr> & <int> & <chr> & <int>\\\\\n",
       "\\hline\n",
       "\t 2 & 2537821 & none      & 317 & alive    & 317\\\\\n",
       "\t 2 & 2518780 & none      & 608 & alive    & 608\\\\\n",
       "\t 2 &       1 & recurrent & 168 & alive    & 263\\\\\n",
       "\t 2 &       2 & recurrent &  58 & alive    & 258\\\\\n",
       "\t 2 &       5 & recurrent &  78 & deceased & 166\\\\\n",
       "\t 2 &       7 & none      & 206 & alive    & 206\\\\\n",
       "\t 3 & 2520263 & recurrent &  39 & deceased &  48\\\\\n",
       "\t 3 & 2393116 & none      & 870 & alive    & 870\\\\\n",
       "\t 3 &       4 & recurrent & 226 & alive    & 251\\\\\n",
       "\t 3 &       6 & recurrent &  62 & deceased & 154\\\\\n",
       "\\end{tabular}\n"
      ],
      "text/markdown": [
       "\n",
       "A data.frame: 10 × 6\n",
       "\n",
       "| subgroup &lt;int&gt; | ID &lt;int&gt; | recurrence &lt;chr&gt; | PFS &lt;int&gt; | survival &lt;chr&gt; | OS &lt;int&gt; |\n",
       "|---|---|---|---|---|---|\n",
       "| 2 | 2537821 | none      | 317 | alive    | 317 |\n",
       "| 2 | 2518780 | none      | 608 | alive    | 608 |\n",
       "| 2 |       1 | recurrent | 168 | alive    | 263 |\n",
       "| 2 |       2 | recurrent |  58 | alive    | 258 |\n",
       "| 2 |       5 | recurrent |  78 | deceased | 166 |\n",
       "| 2 |       7 | none      | 206 | alive    | 206 |\n",
       "| 3 | 2520263 | recurrent |  39 | deceased |  48 |\n",
       "| 3 | 2393116 | none      | 870 | alive    | 870 |\n",
       "| 3 |       4 | recurrent | 226 | alive    | 251 |\n",
       "| 3 |       6 | recurrent |  62 | deceased | 154 |\n",
       "\n"
      ],
      "text/plain": [
       "   subgroup ID      recurrence PFS survival OS \n",
       "1  2        2537821 none       317 alive    317\n",
       "2  2        2518780 none       608 alive    608\n",
       "3  2              1 recurrent  168 alive    263\n",
       "4  2              2 recurrent   58 alive    258\n",
       "5  2              5 recurrent   78 deceased 166\n",
       "6  2              7 none       206 alive    206\n",
       "7  3        2520263 recurrent   39 deceased  48\n",
       "8  3        2393116 none       870 alive    870\n",
       "9  3              4 recurrent  226 alive    251\n",
       "10 3              6 recurrent   62 deceased 154"
      ]
     },
     "metadata": {},
     "output_type": "display_data"
    }
   ],
   "source": [
    "groups3"
   ]
  },
  {
   "cell_type": "code",
   "execution_count": 13,
   "metadata": {},
   "outputs": [],
   "source": [
    "groups3$survival2<-gsub('none',1,groups3$recurrence)\n",
    "groups3$survival2<-gsub('recurrent',2,groups3$survival2)"
   ]
  },
  {
   "cell_type": "code",
   "execution_count": 14,
   "metadata": {},
   "outputs": [
    {
     "data": {
      "text/html": [
       "<table class=\"dataframe\">\n",
       "<caption>A data.frame: 10 × 7</caption>\n",
       "<thead>\n",
       "\t<tr><th scope=col>subgroup</th><th scope=col>ID</th><th scope=col>recurrence</th><th scope=col>PFS</th><th scope=col>survival</th><th scope=col>OS</th><th scope=col>survival2</th></tr>\n",
       "\t<tr><th scope=col>&lt;int&gt;</th><th scope=col>&lt;int&gt;</th><th scope=col>&lt;chr&gt;</th><th scope=col>&lt;int&gt;</th><th scope=col>&lt;chr&gt;</th><th scope=col>&lt;int&gt;</th><th scope=col>&lt;chr&gt;</th></tr>\n",
       "</thead>\n",
       "<tbody>\n",
       "\t<tr><td>2</td><td>2537821</td><td>none     </td><td>317</td><td>alive   </td><td>317</td><td>1</td></tr>\n",
       "\t<tr><td>2</td><td>2518780</td><td>none     </td><td>608</td><td>alive   </td><td>608</td><td>1</td></tr>\n",
       "\t<tr><td>2</td><td>      1</td><td>recurrent</td><td>168</td><td>alive   </td><td>263</td><td>2</td></tr>\n",
       "\t<tr><td>2</td><td>      2</td><td>recurrent</td><td> 58</td><td>alive   </td><td>258</td><td>2</td></tr>\n",
       "\t<tr><td>2</td><td>      5</td><td>recurrent</td><td> 78</td><td>deceased</td><td>166</td><td>2</td></tr>\n",
       "\t<tr><td>2</td><td>      7</td><td>none     </td><td>206</td><td>alive   </td><td>206</td><td>1</td></tr>\n",
       "\t<tr><td>3</td><td>2520263</td><td>recurrent</td><td> 39</td><td>deceased</td><td> 48</td><td>2</td></tr>\n",
       "\t<tr><td>3</td><td>2393116</td><td>none     </td><td>870</td><td>alive   </td><td>870</td><td>1</td></tr>\n",
       "\t<tr><td>3</td><td>      4</td><td>recurrent</td><td>226</td><td>alive   </td><td>251</td><td>2</td></tr>\n",
       "\t<tr><td>3</td><td>      6</td><td>recurrent</td><td> 62</td><td>deceased</td><td>154</td><td>2</td></tr>\n",
       "</tbody>\n",
       "</table>\n"
      ],
      "text/latex": [
       "A data.frame: 10 × 7\n",
       "\\begin{tabular}{lllllll}\n",
       " subgroup & ID & recurrence & PFS & survival & OS & survival2\\\\\n",
       " <int> & <int> & <chr> & <int> & <chr> & <int> & <chr>\\\\\n",
       "\\hline\n",
       "\t 2 & 2537821 & none      & 317 & alive    & 317 & 1\\\\\n",
       "\t 2 & 2518780 & none      & 608 & alive    & 608 & 1\\\\\n",
       "\t 2 &       1 & recurrent & 168 & alive    & 263 & 2\\\\\n",
       "\t 2 &       2 & recurrent &  58 & alive    & 258 & 2\\\\\n",
       "\t 2 &       5 & recurrent &  78 & deceased & 166 & 2\\\\\n",
       "\t 2 &       7 & none      & 206 & alive    & 206 & 1\\\\\n",
       "\t 3 & 2520263 & recurrent &  39 & deceased &  48 & 2\\\\\n",
       "\t 3 & 2393116 & none      & 870 & alive    & 870 & 1\\\\\n",
       "\t 3 &       4 & recurrent & 226 & alive    & 251 & 2\\\\\n",
       "\t 3 &       6 & recurrent &  62 & deceased & 154 & 2\\\\\n",
       "\\end{tabular}\n"
      ],
      "text/markdown": [
       "\n",
       "A data.frame: 10 × 7\n",
       "\n",
       "| subgroup &lt;int&gt; | ID &lt;int&gt; | recurrence &lt;chr&gt; | PFS &lt;int&gt; | survival &lt;chr&gt; | OS &lt;int&gt; | survival2 &lt;chr&gt; |\n",
       "|---|---|---|---|---|---|---|\n",
       "| 2 | 2537821 | none      | 317 | alive    | 317 | 1 |\n",
       "| 2 | 2518780 | none      | 608 | alive    | 608 | 1 |\n",
       "| 2 |       1 | recurrent | 168 | alive    | 263 | 2 |\n",
       "| 2 |       2 | recurrent |  58 | alive    | 258 | 2 |\n",
       "| 2 |       5 | recurrent |  78 | deceased | 166 | 2 |\n",
       "| 2 |       7 | none      | 206 | alive    | 206 | 1 |\n",
       "| 3 | 2520263 | recurrent |  39 | deceased |  48 | 2 |\n",
       "| 3 | 2393116 | none      | 870 | alive    | 870 | 1 |\n",
       "| 3 |       4 | recurrent | 226 | alive    | 251 | 2 |\n",
       "| 3 |       6 | recurrent |  62 | deceased | 154 | 2 |\n",
       "\n"
      ],
      "text/plain": [
       "   subgroup ID      recurrence PFS survival OS  survival2\n",
       "1  2        2537821 none       317 alive    317 1        \n",
       "2  2        2518780 none       608 alive    608 1        \n",
       "3  2              1 recurrent  168 alive    263 2        \n",
       "4  2              2 recurrent   58 alive    258 2        \n",
       "5  2              5 recurrent   78 deceased 166 2        \n",
       "6  2              7 none       206 alive    206 1        \n",
       "7  3        2520263 recurrent   39 deceased  48 2        \n",
       "8  3        2393116 none       870 alive    870 1        \n",
       "9  3              4 recurrent  226 alive    251 2        \n",
       "10 3              6 recurrent   62 deceased 154 2        "
      ]
     },
     "metadata": {},
     "output_type": "display_data"
    }
   ],
   "source": [
    "groups3"
   ]
  },
  {
   "cell_type": "code",
   "execution_count": 15,
   "metadata": {},
   "outputs": [],
   "source": [
    "groups3$survival2<-as.numeric(groups3$survival2)\n",
    "groups3$PFS<-as.numeric(groups3$PFS)"
   ]
  },
  {
   "cell_type": "code",
   "execution_count": 16,
   "metadata": {},
   "outputs": [
    {
     "name": "stderr",
     "output_type": "stream",
     "text": [
      "The following objects are masked from groups3 (pos = 3):\n",
      "\n",
      "    ID, OS, PFS, recurrence, subgroup, survival, survival2\n",
      "\n",
      "\n"
     ]
    },
    {
     "data": {
      "text/plain": [
       "Call: survfit(formula = Surv(PFS, survival2) ~ subgroup)\n",
       "\n",
       "                subgroup=2 \n",
       " time n.risk n.event survival std.err lower 95% CI upper 95% CI\n",
       "   58      6       1    0.833   0.152        0.583            1\n",
       "   78      5       1    0.667   0.192        0.379            1\n",
       "  168      4       1    0.500   0.204        0.225            1\n",
       "\n",
       "                subgroup=3 \n",
       " time n.risk n.event survival std.err lower 95% CI upper 95% CI\n",
       "   39      4       1     0.75   0.217       0.4259            1\n",
       "   62      3       1     0.50   0.250       0.1877            1\n",
       "  226      2       1     0.25   0.217       0.0458            1\n"
      ]
     },
     "metadata": {},
     "output_type": "display_data"
    }
   ],
   "source": [
    "attach(groups3)\n",
    "fit <- survfit(Surv(PFS, survival2) ~ subgroup)\n",
    "summary(fit)"
   ]
  },
  {
   "cell_type": "code",
   "execution_count": 17,
   "metadata": {},
   "outputs": [],
   "source": [
    "options(repr.plot.height=6,repr.plot.width=6)"
   ]
  },
  {
   "cell_type": "code",
   "execution_count": 18,
   "metadata": {},
   "outputs": [
    {
     "data": {
      "image/png": "[encoded data removed]",
      "text/plain": [
       "plot without title"
      ]
     },
     "metadata": {
      "image/png": {
       "height": 360,
       "width": 360
      }
     },
     "output_type": "display_data"
    }
   ],
   "source": [
    "ggsurvplot(fit, data = groups3,\n",
    "           pval = T, # 在图上添加log rank检验的p值\n",
    "         #  conf.int = T,# 添加置信区间\n",
    "           risk.table = T, # 在图下方添加风险表\n",
    "           legend.labs=c(\"subgroup2\",\"subgroup3\"), #表头标签注释男女\n",
    "           legend.title=\"Subgroups\",#表头标签\n",
    "           ylab=\"Cumulative recurrence (percentage)\",xlab = \" Time (Days)\",#修改X轴Y轴名称\n",
    "           risk.table.col = \"strata\", # 风险表加颜色\n",
    "       #    linetype = \"strata\", # 生存曲线的线型\n",
    "       #    surv.median.line = \"hv\", # 标注出中位生存时间\n",
    "           ggtheme = theme_bw(), #背景布局\n",
    "           palette = c(\"red\", \"blue\")) # 图形颜色风格"
   ]
  },
  {
   "cell_type": "code",
   "execution_count": 19,
   "metadata": {},
   "outputs": [
    {
     "data": {
      "text/html": [
       "<strong>png:</strong> 2"
      ],
      "text/latex": [
       "\\textbf{png:} 2"
      ],
      "text/markdown": [
       "**png:** 2"
      ],
      "text/plain": [
       "png \n",
       "  2 "
      ]
     },
     "metadata": {},
     "output_type": "display_data"
    }
   ],
   "source": [
    "pdf(\"PFS.pdf\",width=5.5,height=5)\n",
    "ggsurvplot(fit, data = groups3,\n",
    "           pval = T, # 在图上添加log rank检验的p值\n",
    "         #  conf.int = T,# 添加置信区间\n",
    "           risk.table = T, # 在图下方添加风险表\n",
    "           legend.labs=c(\"subgroup2\",\"subgroup3\"), #表头标签注释男女\n",
    "           legend.title=\"Subgroups\",#表头标签\n",
    "           ylab=\"Cumulative recurrence (percentage)\",xlab = \" Time (Days)\",#修改X轴Y轴名称\n",
    "           risk.table.col = \"strata\", # 风险表加颜色\n",
    "       #    linetype = \"strata\", # 生存曲线的线型\n",
    "       #    surv.median.line = \"hv\", # 标注出中位生存时间\n",
    "           ggtheme = theme_bw(), #背景布局\n",
    "           palette = c(\"red\", \"blue\")) # 图形颜色风格\n",
    "dev.off()"
   ]
  },
  {
   "cell_type": "code",
   "execution_count": null,
   "metadata": {},
   "outputs": [],
   "source": []
  }
 ],
 "metadata": {
  "kernelspec": {
   "display_name": "R",
   "language": "R",
   "name": "ir"
  },
  "language_info": {
   "codemirror_mode": "r",
   "file_extension": ".r",
   "mimetype": "text/x-r-source",
   "name": "R",
   "pygments_lexer": "r",
   "version": "4.0.3"
  }
 },
 "nbformat": 4,
 "nbformat_minor": 2
}
